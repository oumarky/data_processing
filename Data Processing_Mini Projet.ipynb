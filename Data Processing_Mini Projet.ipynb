{
 "cells": [
  {
   "cell_type": "code",
   "execution_count": 51,
   "id": "06d40594",
   "metadata": {},
   "outputs": [
    {
     "name": "stdout",
     "output_type": "stream",
     "text": [
      "   geonameid                name           asciiname  \\\n",
      "0    2282318              Pouéné              Pouene   \n",
      "1    2285251  Léraba Occidentale  Leraba Occidentale   \n",
      "2    2287216           Kéléouoro           Keleouoro   \n",
      "3    2294066         White Volta         White Volta   \n",
      "4    2298457        Issana Bouga        Issana Bouga   \n",
      "\n",
      "                                      alternatenames  latitude  longitude  \\\n",
      "0                                                NaN   9.72908   -2.78660   \n",
      "1  Badini,La Leraba Occidentale,Leraba,Leraba Occ...  10.28333   -5.11667   \n",
      "2              Keleouoro,Keleworo,Kéléouoro,Kéléworo   9.80748   -4.05023   \n",
      "3  Nakambe,Nakambé,Nakanbe,Nakanbé,Volta Blanche,...   8.70194   -0.99056   \n",
      "4                      Issana Bouga,Lanyung,Lanyunga  10.91667   -1.18333   \n",
      "\n",
      "  feature_class feature_code country_code    cc2 admin1_code  admin2_code  \\\n",
      "0             H          STM           BF    NaN          00          NaN   \n",
      "1             H          STM           BF     CI          00          NaN   \n",
      "2             H          STM           BF  BF,CI          00          NaN   \n",
      "3             H          STM           BF     GH          00          NaN   \n",
      "4             H          STM           BF    NaN          00          NaN   \n",
      "\n",
      "   admin3_code  admin4_code  population  elevation  dem        timezone  \\\n",
      "0          NaN          NaN           0        NaN  226  Africa/Abidjan   \n",
      "1          NaN          NaN           0        NaN  283  Africa/Abidjan   \n",
      "2          NaN          NaN           0        NaN  261  Africa/Abidjan   \n",
      "3          NaN          NaN           0        NaN   75    Africa/Accra   \n",
      "4          NaN          NaN           0        NaN  178    Africa/Accra   \n",
      "\n",
      "  modification_date  \n",
      "0        2023-11-07  \n",
      "1        2023-11-07  \n",
      "2        2023-11-07  \n",
      "3        2023-11-08  \n",
      "4        2023-11-08  \n"
     ]
    }
   ],
   "source": [
    "import pandas as pd\n",
    "bf = pd.read_csv('BF/BF.txt', sep = '\\t', header = None, quoting = 3, names = ['geonameid', 'name', 'asciiname', 'alternatenames', 'latitude', 'longitude', 'feature_class', 'feature_code', 'country_code', 'cc2', 'admin1_code', 'admin2_code', 'admin3_code', 'admin4_code', 'population', 'elevation', 'dem', 'timezone', 'modification_date'])\n",
    "print(bf.head())"
   ]
  },
  {
   "cell_type": "code",
   "execution_count": 52,
   "id": "398c557e",
   "metadata": {},
   "outputs": [
    {
     "name": "stdout",
     "output_type": "stream",
     "text": [
      "   geonameid                name  latitude  longitude\n",
      "0    2282318              Pouéné   9.72908   -2.78660\n",
      "1    2285251  Léraba Occidentale  10.28333   -5.11667\n",
      "2    2287216           Kéléouoro   9.80748   -4.05023\n",
      "3    2294066         White Volta   8.70194   -0.99056\n",
      "4    2298457        Issana Bouga  10.91667   -1.18333\n"
     ]
    }
   ],
   "source": [
    "sub_bf = bf[['geonameid', 'name','latitude', 'longitude']]\n",
    "print(sub_bf.head())"
   ]
  },
  {
   "cell_type": "code",
   "execution_count": 53,
   "id": "df9614c9",
   "metadata": {},
   "outputs": [],
   "source": [
    "#Appliquer les opérations de prétraitement et filtres nécessaires à ce fichier, pour ne garder que les colonnes correspondantes\n",
    "#Renommez les avec les noms suivants : 'ID', 'location_name', 'lat', 'long'\n",
    "sub_bf = sub_bf.rename(columns={'geonameid': 'ID', 'name': 'location_name', 'latitude': 'lat', 'longitude': 'long'})"
   ]
  },
  {
   "cell_type": "code",
   "execution_count": 54,
   "id": "ba3f1f25",
   "metadata": {},
   "outputs": [
    {
     "data": {
      "text/html": [
       "<div>\n",
       "<style scoped>\n",
       "    .dataframe tbody tr th:only-of-type {\n",
       "        vertical-align: middle;\n",
       "    }\n",
       "\n",
       "    .dataframe tbody tr th {\n",
       "        vertical-align: top;\n",
       "    }\n",
       "\n",
       "    .dataframe thead th {\n",
       "        text-align: right;\n",
       "    }\n",
       "</style>\n",
       "<table border=\"1\" class=\"dataframe\">\n",
       "  <thead>\n",
       "    <tr style=\"text-align: right;\">\n",
       "      <th></th>\n",
       "      <th>ID</th>\n",
       "      <th>location_name</th>\n",
       "      <th>lat</th>\n",
       "      <th>long</th>\n",
       "    </tr>\n",
       "  </thead>\n",
       "  <tbody>\n",
       "    <tr>\n",
       "      <th>0</th>\n",
       "      <td>2282318</td>\n",
       "      <td>Pouéné</td>\n",
       "      <td>9.72908</td>\n",
       "      <td>-2.78660</td>\n",
       "    </tr>\n",
       "    <tr>\n",
       "      <th>1</th>\n",
       "      <td>2285251</td>\n",
       "      <td>Léraba Occidentale</td>\n",
       "      <td>10.28333</td>\n",
       "      <td>-5.11667</td>\n",
       "    </tr>\n",
       "    <tr>\n",
       "      <th>2</th>\n",
       "      <td>2287216</td>\n",
       "      <td>Kéléouoro</td>\n",
       "      <td>9.80748</td>\n",
       "      <td>-4.05023</td>\n",
       "    </tr>\n",
       "    <tr>\n",
       "      <th>3</th>\n",
       "      <td>2294066</td>\n",
       "      <td>White Volta</td>\n",
       "      <td>8.70194</td>\n",
       "      <td>-0.99056</td>\n",
       "    </tr>\n",
       "    <tr>\n",
       "      <th>4</th>\n",
       "      <td>2298457</td>\n",
       "      <td>Issana Bouga</td>\n",
       "      <td>10.91667</td>\n",
       "      <td>-1.18333</td>\n",
       "    </tr>\n",
       "  </tbody>\n",
       "</table>\n",
       "</div>"
      ],
      "text/plain": [
       "        ID       location_name       lat     long\n",
       "0  2282318              Pouéné   9.72908 -2.78660\n",
       "1  2285251  Léraba Occidentale  10.28333 -5.11667\n",
       "2  2287216           Kéléouoro   9.80748 -4.05023\n",
       "3  2294066         White Volta   8.70194 -0.99056\n",
       "4  2298457        Issana Bouga  10.91667 -1.18333"
      ]
     },
     "execution_count": 54,
     "metadata": {},
     "output_type": "execute_result"
    }
   ],
   "source": [
    "sub_bf.head()"
   ]
  },
  {
   "cell_type": "code",
   "execution_count": 55,
   "id": "c9e2f65c",
   "metadata": {},
   "outputs": [],
   "source": [
    "#Sauvegarder ces données dans un fichier CSV, nommez-le burkina_location.csv\n",
    "sub_bf.to_csv('burkina_location.csv', index=False) "
   ]
  },
  {
   "cell_type": "code",
   "execution_count": 57,
   "id": "90b76815",
   "metadata": {},
   "outputs": [],
   "source": [
    "# Charger le fichier CSV burkina_location.csv dans un DataFrame\n",
    "df_burkina_location = pd.read_csv('burkina_location.csv')\n",
    "\n",
    "# Extraire les lignes contenant le nom 'Gounghin' \n",
    "df_gounghin = df_burkina_location.loc[df_burkina_location['location_name'] == 'Gounghin']\n",
    "\n",
    "# Sauvegarder les données extraites dans un nouveau fichier CSV\n",
    "df_gounghin.to_csv('gounghin.csv',  index=False)"
   ]
  },
  {
   "cell_type": "code",
   "execution_count": 58,
   "id": "b4d26001",
   "metadata": {},
   "outputs": [
    {
     "data": {
      "text/html": [
       "<div>\n",
       "<style scoped>\n",
       "    .dataframe tbody tr th:only-of-type {\n",
       "        vertical-align: middle;\n",
       "    }\n",
       "\n",
       "    .dataframe tbody tr th {\n",
       "        vertical-align: top;\n",
       "    }\n",
       "\n",
       "    .dataframe thead th {\n",
       "        text-align: right;\n",
       "    }\n",
       "</style>\n",
       "<table border=\"1\" class=\"dataframe\">\n",
       "  <thead>\n",
       "    <tr style=\"text-align: right;\">\n",
       "      <th></th>\n",
       "      <th>ID</th>\n",
       "      <th>location_name</th>\n",
       "      <th>lat</th>\n",
       "      <th>long</th>\n",
       "    </tr>\n",
       "  </thead>\n",
       "  <tbody>\n",
       "    <tr>\n",
       "      <th>153</th>\n",
       "      <td>2353306</td>\n",
       "      <td>Gounghin</td>\n",
       "      <td>12.06677</td>\n",
       "      <td>-1.42134</td>\n",
       "    </tr>\n",
       "    <tr>\n",
       "      <th>7270</th>\n",
       "      <td>2360473</td>\n",
       "      <td>Gounghin</td>\n",
       "      <td>12.62488</td>\n",
       "      <td>-1.36398</td>\n",
       "    </tr>\n",
       "    <tr>\n",
       "      <th>10259</th>\n",
       "      <td>2570204</td>\n",
       "      <td>Gounghin</td>\n",
       "      <td>12.31436</td>\n",
       "      <td>-1.37900</td>\n",
       "    </tr>\n",
       "    <tr>\n",
       "      <th>10745</th>\n",
       "      <td>10342749</td>\n",
       "      <td>Gounghin</td>\n",
       "      <td>12.06667</td>\n",
       "      <td>-0.15000</td>\n",
       "    </tr>\n",
       "    <tr>\n",
       "      <th>10865</th>\n",
       "      <td>11900680</td>\n",
       "      <td>Gounghin</td>\n",
       "      <td>12.35895</td>\n",
       "      <td>-1.54442</td>\n",
       "    </tr>\n",
       "  </tbody>\n",
       "</table>\n",
       "</div>"
      ],
      "text/plain": [
       "             ID location_name       lat     long\n",
       "153     2353306      Gounghin  12.06677 -1.42134\n",
       "7270    2360473      Gounghin  12.62488 -1.36398\n",
       "10259   2570204      Gounghin  12.31436 -1.37900\n",
       "10745  10342749      Gounghin  12.06667 -0.15000\n",
       "10865  11900680      Gounghin  12.35895 -1.54442"
      ]
     },
     "execution_count": 58,
     "metadata": {},
     "output_type": "execute_result"
    }
   ],
   "source": [
    "#Résultat de l'extraction des lignes contenant le nom 'Gounghin'\n",
    "df_gounghin.head()"
   ]
  },
  {
   "cell_type": "code",
   "execution_count": 59,
   "id": "92bad6e7",
   "metadata": {},
   "outputs": [],
   "source": [
    "# extraire la sous-partie de la base de données (fichier burkina_location.csv), dont les noms les premières lettres des noms de lieux sont compris entre 'A' et 'P' (ordre alphabétique)\n",
    "df_filtrees = df_burkina_location[df_burkina_location['location_name'].str.startswith(('A', 'B', 'C', 'D', 'E', 'F', 'G', 'H', 'I', 'J', 'K', 'L', 'M', 'N', 'O', 'P'))]\n",
    "\n",
    "# Sauvegarder les données extraites dans un nouveau fichier CSV\n",
    "df_filtrees.to_csv('burkina_location_filtrees.csv', index=False)"
   ]
  },
  {
   "cell_type": "code",
   "execution_count": 60,
   "id": "8f4350d3",
   "metadata": {},
   "outputs": [
    {
     "data": {
      "text/html": [
       "<div>\n",
       "<style scoped>\n",
       "    .dataframe tbody tr th:only-of-type {\n",
       "        vertical-align: middle;\n",
       "    }\n",
       "\n",
       "    .dataframe tbody tr th {\n",
       "        vertical-align: top;\n",
       "    }\n",
       "\n",
       "    .dataframe thead th {\n",
       "        text-align: right;\n",
       "    }\n",
       "</style>\n",
       "<table border=\"1\" class=\"dataframe\">\n",
       "  <thead>\n",
       "    <tr style=\"text-align: right;\">\n",
       "      <th></th>\n",
       "      <th>ID</th>\n",
       "      <th>location_name</th>\n",
       "      <th>lat</th>\n",
       "      <th>long</th>\n",
       "    </tr>\n",
       "  </thead>\n",
       "  <tbody>\n",
       "    <tr>\n",
       "      <th>0</th>\n",
       "      <td>2282318</td>\n",
       "      <td>Pouéné</td>\n",
       "      <td>9.72908</td>\n",
       "      <td>-2.78660</td>\n",
       "    </tr>\n",
       "    <tr>\n",
       "      <th>1</th>\n",
       "      <td>2285251</td>\n",
       "      <td>Léraba Occidentale</td>\n",
       "      <td>10.28333</td>\n",
       "      <td>-5.11667</td>\n",
       "    </tr>\n",
       "    <tr>\n",
       "      <th>2</th>\n",
       "      <td>2287216</td>\n",
       "      <td>Kéléouoro</td>\n",
       "      <td>9.80748</td>\n",
       "      <td>-4.05023</td>\n",
       "    </tr>\n",
       "    <tr>\n",
       "      <th>4</th>\n",
       "      <td>2298457</td>\n",
       "      <td>Issana Bouga</td>\n",
       "      <td>10.91667</td>\n",
       "      <td>-1.18333</td>\n",
       "    </tr>\n",
       "    <tr>\n",
       "      <th>137</th>\n",
       "      <td>2353290</td>\n",
       "      <td>Forêt Classée de Ziga</td>\n",
       "      <td>12.47106</td>\n",
       "      <td>-1.08644</td>\n",
       "    </tr>\n",
       "  </tbody>\n",
       "</table>\n",
       "</div>"
      ],
      "text/plain": [
       "          ID          location_name       lat     long\n",
       "0    2282318                 Pouéné   9.72908 -2.78660\n",
       "1    2285251     Léraba Occidentale  10.28333 -5.11667\n",
       "2    2287216              Kéléouoro   9.80748 -4.05023\n",
       "4    2298457           Issana Bouga  10.91667 -1.18333\n",
       "137  2353290  Forêt Classée de Ziga  12.47106 -1.08644"
      ]
     },
     "execution_count": 60,
     "metadata": {},
     "output_type": "execute_result"
    }
   ],
   "source": [
    "#Résultat de l'extraction des lignes contenant le nom 'Gounghin'\n",
    "df_filtrees.head()"
   ]
  },
  {
   "cell_type": "code",
   "execution_count": 61,
   "id": "927fdafc",
   "metadata": {},
   "outputs": [
    {
     "name": "stdout",
     "output_type": "stream",
     "text": [
      "Latitude minimale : 5.21609\n",
      "Longitude minimale : -5.65968\n",
      "Nom de la latitude minimale : Komoé\n",
      "Nom de la longitude minimale : Banifing\n"
     ]
    }
   ],
   "source": [
    "#Identifiez respectivement, la latitude, la longitude minimale et les noms de lieux correspondants\n",
    "# Trouver l'indice de la ligne avec la latitude minimale\n",
    "ind_lat_min = df_filtrees['lat'].idxmin()\n",
    "\n",
    "print(\"Latitude minimale :\", df_filtrees['lat'].min())\n",
    "\n",
    "# Trouver l'indice de la ligne avec la longitude minimale\n",
    "ind_long_min = df_filtrees['long'].idxmin()\n",
    "\n",
    "print(\"Longitude minimale :\", df_filtrees['long'].min())\n",
    "\n",
    "\n",
    "# Accéder aux noms de lieux correspondants\n",
    "nom_lieu_lat_min = df_filtrees.loc[ind_lat_min, 'location_name']\n",
    "nom_lieu_lon_min = df_filtrees.loc[ind_long_min, 'location_name']\n",
    "\n",
    "print(\"Nom de la latitude minimale :\", nom_lieu_lat_min)\n",
    "print(\"Nom de la longitude minimale :\", nom_lieu_lon_min)"
   ]
  },
  {
   "cell_type": "code",
   "execution_count": 45,
   "id": "59958963",
   "metadata": {},
   "outputs": [
    {
     "name": "stdout",
     "output_type": "stream",
     "text": [
      "les lieux dont les coordonnées sont comprises entre (lat >= 11 et lon <= 0.5) :        Unnamed: 0        ID    location_name       lat     long\n",
      "5               5   2353158         Zyonguen  12.36667 -0.45000\n",
      "6               6   2353159        Zyiliwèlè  12.38333 -2.73333\n",
      "7               7   2353160           Zyanko  12.78333 -0.41667\n",
      "8               8   2353161            Zouta  13.14908 -1.28197\n",
      "9               9   2353162        Zourtenga  12.95741 -1.28745\n",
      "...           ...       ...              ...       ...      ...\n",
      "11706       11706  12687046         Monde-So  14.20081 -1.63983\n",
      "11707       11707  12688694          Yerfing  11.33747 -3.35025\n",
      "11709       11709  12688713  Tinonguen-Peulh  11.64924 -0.22063\n",
      "11711       11711  12720016            Yimdi  12.31014 -1.66322\n",
      "11712       11712  12746364           Dabogo  11.49058  0.12698\n",
      "\n",
      "[9282 rows x 5 columns]\n"
     ]
    }
   ],
   "source": [
    "#Quels sont les lieux dont les coordonnées sont comprises entre (lat >= 11 et lon <= 0.5)\n",
    "df_lieux_filtres = df_burkina_location[(df_burkina_location['lat'] >= 11) & (df['long'] <= 0.5)]\n",
    "\n",
    "print(\"les lieux dont les coordonnées sont comprises entre (lat >= 11 et lon <= 0.5) :\", df_lieux_filtres)\n"
   ]
  },
  {
   "cell_type": "code",
   "execution_count": null,
   "id": "3c4cd5ef",
   "metadata": {},
   "outputs": [],
   "source": []
  }
 ],
 "metadata": {
  "kernelspec": {
   "display_name": "Python 3 (ipykernel)",
   "language": "python",
   "name": "python3"
  },
  "language_info": {
   "codemirror_mode": {
    "name": "ipython",
    "version": 3
   },
   "file_extension": ".py",
   "mimetype": "text/x-python",
   "name": "python",
   "nbconvert_exporter": "python",
   "pygments_lexer": "ipython3",
   "version": "3.10.9"
  }
 },
 "nbformat": 4,
 "nbformat_minor": 5
}
